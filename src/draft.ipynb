{
 "cells": [
  {
   "cell_type": "code",
   "execution_count": 1,
   "metadata": {},
   "outputs": [],
   "source": [
    "%matplotlib inline\n",
    "\n",
    "import numpy as np\n",
    "import random\n",
    "from matplotlib import pyplot as plt\n",
    "from scipy.stats import truncnorm"
   ]
  },
  {
   "cell_type": "code",
   "execution_count": 4,
   "metadata": {},
   "outputs": [
    {
     "data": {
      "text/plain": [
       "[<matplotlib.lines.Line2D at 0x7fc25c301ef0>]"
      ]
     },
     "execution_count": 4,
     "metadata": {},
     "output_type": "execute_result"
    },
    {
     "data": {
      "image/png": "[encoded data removed]",
      "text/plain": [
       "<Figure size 432x288 with 1 Axes>"
      ]
     },
     "metadata": {},
     "output_type": "display_data"
    }
   ],
   "source": [
    "# examples using truncnorm to sample from a truncated normal distribution\n",
    "\n",
    "\n",
    "a, b = -0.1, 2\n",
    "x = np.linspace(truncnorm.ppf(0.01, a, b),truncnorm.ppf(0.99, a, b), 100)\n",
    "plt.plot(x, truncnorm.pdf(x, a, b, loc=1, scale = 2),'r-', lw=5, alpha=0.6, label='truncnorm pdf')\n"
   ]
  },
  {
   "cell_type": "code",
   "execution_count": 3,
   "metadata": {},
   "outputs": [
    {
     "data": {
      "text/plain": [
       "(array([75., 78., 87., 79., 84., 68., 56., 62., 75., 52., 49., 34., 51.,\n",
       "        34., 25., 20., 22., 16., 20., 13.]),\n",
       " array([-0.09883472,  0.00584347,  0.11052166,  0.21519985,  0.31987804,\n",
       "         0.42455623,  0.52923442,  0.63391261,  0.7385908 ,  0.84326899,\n",
       "         0.94794718,  1.05262538,  1.15730357,  1.26198176,  1.36665995,\n",
       "         1.47133814,  1.57601633,  1.68069452,  1.78537271,  1.8900509 ,\n",
       "         1.99472909]),\n",
       " <a list of 20 Patch objects>)"
      ]
     },
     "execution_count": 3,
     "metadata": {},
     "output_type": "execute_result"
    },
    {
     "data": {
      "image/png": "[encoded data removed]",
      "text/plain": [
       "<Figure size 432x288 with 1 Axes>"
      ]
     },
     "metadata": {},
     "output_type": "display_data"
    }
   ],
   "source": [
    "r = truncnorm.rvs(a, b, size=1000)\n",
    "plt.hist(r, bins = 20)"
   ]
  },
  {
   "cell_type": "code",
   "execution_count": null,
   "metadata": {},
   "outputs": [],
   "source": [
    "Taus = [0.1,1,10,100]\n",
    "post = np.zeros((5,1000))\n",
    "post_nd = np.zeros((5,1000))\n",
    "for i in range(4):\n",
    "    a, b = sample_post_unif(data_3,1000,Taus[i])   \n",
    "    post[i,:] = a[0,]\n",
    "    post_nd[i,:] = b[0,]\n",
    "    \n",
    "plt.figure()\n",
    "fig, ax = plt.subplots(1,4, figsize=(40/1,9/1))\n",
    "a = ax[0]\n",
    "a.hist(post[0,], bins = 10, label=\"averaging\",alpha=0.5)\n",
    "a.hist(post_nd[0,], bins = 10, label=\"non distributed\",alpha=0.5)\n",
    "a.vlines((theta_3[0]), 0, 300, colors=(\"red\"), label=\"true value\", linewidth=3)\n",
    "a.legend(fontsize = 20)\n",
    "a = ax[1]\n",
    "a.hist(post[1,], bins = 10, label=\"averaging\",alpha=0.5)\n",
    "a.hist(post_nd[1,], bins = 10, label=\"non distributed\", alpha=0.5)\n",
    "a.vlines((theta_3[0]), 0, 300, colors=(\"red\"), label=\"true value\", linewidth=3)\n",
    "a.legend(fontsize = 20)\n",
    "a = ax[2]\n",
    "a.hist(post[2,], bins = 10, label=\"averaging\",alpha=0.5)\n",
    "a.hist(post_nd[2,], bins = 10, label=\"non distributed\", alpha=0.5)\n",
    "a.vlines((theta_3[0]), 0, 300, colors=(\"red\"), label=\"true value\", linewidth=3)\n",
    "a.legend(fontsize = 20)\n",
    "a = ax[3]\n",
    "a.hist(post[3,], bins = 10, label=\"averaging\", alpha=0.5)\n",
    "a.hist(post_nd[3,], bins = 10, label=\"non distributed\",alpha=0.5)\n",
    "a.vlines((theta_3[0]), 0, 300, colors=(\"red\"), label=\"true value\",linewidth=3)\n",
    "a.legend(fontsize = 20)\n",
    "\n",
    "fig.savefig(\"tau.pdf\")"
   ]
  }
 ],
 "metadata": {
  "kernelspec": {
   "display_name": "Python 3",
   "language": "python",
   "name": "python3"
  },
  "language_info": {
   "codemirror_mode": {
    "name": "ipython",
    "version": 3
   },
   "file_extension": ".py",
   "mimetype": "text/x-python",
   "name": "python",
   "nbconvert_exporter": "python",
   "pygments_lexer": "ipython3",
   "version": "3.6.8"
  }
 },
 "nbformat": 4,
 "nbformat_minor": 2
}
